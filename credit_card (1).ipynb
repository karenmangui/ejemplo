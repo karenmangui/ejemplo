{
 "cells": [
  {
   "cell_type": "code",
   "execution_count": 1,
   "id": "92a38064",
   "metadata": {},
   "outputs": [],
   "source": [
    "import pandas as pd\n",
    "\n",
    "from sklearn.neighbors import KNeighborsClassifier\n",
    "from sklearn.linear_model import SGDClassifier\n",
    "from sklearn.tree import DecisionTreeClassifier\n",
    "from sklearn.ensemble import RandomForestClassifier\n",
    "from sklearn.ensemble import GradientBoostingClassifier\n",
    "\n",
    "from sklearn.model_selection import train_test_split\n",
    "from sklearn.metrics import confusion_matrix, ConfusionMatrixDisplay\n"
   ]
  },
  {
   "cell_type": "code",
   "execution_count": 2,
   "id": "f095c8af",
   "metadata": {},
   "outputs": [],
   "source": [
    "def plot_confusion_matrix(X, y, model):\n",
    "    y_pred = model.predict(X)\n",
    "    cm = confusion_matrix(y, y_pred, labels=model.classes_)\n",
    "    disp = ConfusionMatrixDisplay(confusion_matrix=cm,\n",
    "                                  display_labels=model.classes_)\n",
    "    disp.plot()\n",
    "\n",
    "    plt.show()\n",
    "\n"
   ]
  },
  {
   "cell_type": "code",
   "execution_count": 3,
   "id": "8d6b1a17",
   "metadata": {},
   "outputs": [],
   "source": [
    "df = pd.read_csv('./data/creditcard.csv')"
   ]
  },
  {
   "cell_type": "code",
   "execution_count": 4,
   "id": "c612490c",
   "metadata": {},
   "outputs": [
    {
     "data": {
      "text/html": [
       "<div>\n",
       "<style scoped>\n",
       "    .dataframe tbody tr th:only-of-type {\n",
       "        vertical-align: middle;\n",
       "    }\n",
       "\n",
       "    .dataframe tbody tr th {\n",
       "        vertical-align: top;\n",
       "    }\n",
       "\n",
       "    .dataframe thead th {\n",
       "        text-align: right;\n",
       "    }\n",
       "</style>\n",
       "<table border=\"1\" class=\"dataframe\">\n",
       "  <thead>\n",
       "    <tr style=\"text-align: right;\">\n",
       "      <th></th>\n",
       "      <th>Time</th>\n",
       "      <th>V1</th>\n",
       "      <th>V2</th>\n",
       "      <th>V3</th>\n",
       "      <th>V4</th>\n",
       "      <th>V5</th>\n",
       "      <th>V6</th>\n",
       "      <th>V7</th>\n",
       "      <th>V8</th>\n",
       "      <th>V9</th>\n",
       "      <th>...</th>\n",
       "      <th>V21</th>\n",
       "      <th>V22</th>\n",
       "      <th>V23</th>\n",
       "      <th>V24</th>\n",
       "      <th>V25</th>\n",
       "      <th>V26</th>\n",
       "      <th>V27</th>\n",
       "      <th>V28</th>\n",
       "      <th>Amount</th>\n",
       "      <th>Class</th>\n",
       "    </tr>\n",
       "  </thead>\n",
       "  <tbody>\n",
       "    <tr>\n",
       "      <th>0</th>\n",
       "      <td>0.0</td>\n",
       "      <td>-1.359807</td>\n",
       "      <td>-0.072781</td>\n",
       "      <td>2.536347</td>\n",
       "      <td>1.378155</td>\n",
       "      <td>-0.338321</td>\n",
       "      <td>0.462388</td>\n",
       "      <td>0.239599</td>\n",
       "      <td>0.098698</td>\n",
       "      <td>0.363787</td>\n",
       "      <td>...</td>\n",
       "      <td>-0.018307</td>\n",
       "      <td>0.277838</td>\n",
       "      <td>-0.110474</td>\n",
       "      <td>0.066928</td>\n",
       "      <td>0.128539</td>\n",
       "      <td>-0.189115</td>\n",
       "      <td>0.133558</td>\n",
       "      <td>-0.021053</td>\n",
       "      <td>149.62</td>\n",
       "      <td>0</td>\n",
       "    </tr>\n",
       "    <tr>\n",
       "      <th>1</th>\n",
       "      <td>0.0</td>\n",
       "      <td>1.191857</td>\n",
       "      <td>0.266151</td>\n",
       "      <td>0.166480</td>\n",
       "      <td>0.448154</td>\n",
       "      <td>0.060018</td>\n",
       "      <td>-0.082361</td>\n",
       "      <td>-0.078803</td>\n",
       "      <td>0.085102</td>\n",
       "      <td>-0.255425</td>\n",
       "      <td>...</td>\n",
       "      <td>-0.225775</td>\n",
       "      <td>-0.638672</td>\n",
       "      <td>0.101288</td>\n",
       "      <td>-0.339846</td>\n",
       "      <td>0.167170</td>\n",
       "      <td>0.125895</td>\n",
       "      <td>-0.008983</td>\n",
       "      <td>0.014724</td>\n",
       "      <td>2.69</td>\n",
       "      <td>0</td>\n",
       "    </tr>\n",
       "    <tr>\n",
       "      <th>2</th>\n",
       "      <td>1.0</td>\n",
       "      <td>-1.358354</td>\n",
       "      <td>-1.340163</td>\n",
       "      <td>1.773209</td>\n",
       "      <td>0.379780</td>\n",
       "      <td>-0.503198</td>\n",
       "      <td>1.800499</td>\n",
       "      <td>0.791461</td>\n",
       "      <td>0.247676</td>\n",
       "      <td>-1.514654</td>\n",
       "      <td>...</td>\n",
       "      <td>0.247998</td>\n",
       "      <td>0.771679</td>\n",
       "      <td>0.909412</td>\n",
       "      <td>-0.689281</td>\n",
       "      <td>-0.327642</td>\n",
       "      <td>-0.139097</td>\n",
       "      <td>-0.055353</td>\n",
       "      <td>-0.059752</td>\n",
       "      <td>378.66</td>\n",
       "      <td>0</td>\n",
       "    </tr>\n",
       "    <tr>\n",
       "      <th>3</th>\n",
       "      <td>1.0</td>\n",
       "      <td>-0.966272</td>\n",
       "      <td>-0.185226</td>\n",
       "      <td>1.792993</td>\n",
       "      <td>-0.863291</td>\n",
       "      <td>-0.010309</td>\n",
       "      <td>1.247203</td>\n",
       "      <td>0.237609</td>\n",
       "      <td>0.377436</td>\n",
       "      <td>-1.387024</td>\n",
       "      <td>...</td>\n",
       "      <td>-0.108300</td>\n",
       "      <td>0.005274</td>\n",
       "      <td>-0.190321</td>\n",
       "      <td>-1.175575</td>\n",
       "      <td>0.647376</td>\n",
       "      <td>-0.221929</td>\n",
       "      <td>0.062723</td>\n",
       "      <td>0.061458</td>\n",
       "      <td>123.50</td>\n",
       "      <td>0</td>\n",
       "    </tr>\n",
       "    <tr>\n",
       "      <th>4</th>\n",
       "      <td>2.0</td>\n",
       "      <td>-1.158233</td>\n",
       "      <td>0.877737</td>\n",
       "      <td>1.548718</td>\n",
       "      <td>0.403034</td>\n",
       "      <td>-0.407193</td>\n",
       "      <td>0.095921</td>\n",
       "      <td>0.592941</td>\n",
       "      <td>-0.270533</td>\n",
       "      <td>0.817739</td>\n",
       "      <td>...</td>\n",
       "      <td>-0.009431</td>\n",
       "      <td>0.798278</td>\n",
       "      <td>-0.137458</td>\n",
       "      <td>0.141267</td>\n",
       "      <td>-0.206010</td>\n",
       "      <td>0.502292</td>\n",
       "      <td>0.219422</td>\n",
       "      <td>0.215153</td>\n",
       "      <td>69.99</td>\n",
       "      <td>0</td>\n",
       "    </tr>\n",
       "    <tr>\n",
       "      <th>...</th>\n",
       "      <td>...</td>\n",
       "      <td>...</td>\n",
       "      <td>...</td>\n",
       "      <td>...</td>\n",
       "      <td>...</td>\n",
       "      <td>...</td>\n",
       "      <td>...</td>\n",
       "      <td>...</td>\n",
       "      <td>...</td>\n",
       "      <td>...</td>\n",
       "      <td>...</td>\n",
       "      <td>...</td>\n",
       "      <td>...</td>\n",
       "      <td>...</td>\n",
       "      <td>...</td>\n",
       "      <td>...</td>\n",
       "      <td>...</td>\n",
       "      <td>...</td>\n",
       "      <td>...</td>\n",
       "      <td>...</td>\n",
       "      <td>...</td>\n",
       "    </tr>\n",
       "    <tr>\n",
       "      <th>284802</th>\n",
       "      <td>172786.0</td>\n",
       "      <td>-11.881118</td>\n",
       "      <td>10.071785</td>\n",
       "      <td>-9.834783</td>\n",
       "      <td>-2.066656</td>\n",
       "      <td>-5.364473</td>\n",
       "      <td>-2.606837</td>\n",
       "      <td>-4.918215</td>\n",
       "      <td>7.305334</td>\n",
       "      <td>1.914428</td>\n",
       "      <td>...</td>\n",
       "      <td>0.213454</td>\n",
       "      <td>0.111864</td>\n",
       "      <td>1.014480</td>\n",
       "      <td>-0.509348</td>\n",
       "      <td>1.436807</td>\n",
       "      <td>0.250034</td>\n",
       "      <td>0.943651</td>\n",
       "      <td>0.823731</td>\n",
       "      <td>0.77</td>\n",
       "      <td>0</td>\n",
       "    </tr>\n",
       "    <tr>\n",
       "      <th>284803</th>\n",
       "      <td>172787.0</td>\n",
       "      <td>-0.732789</td>\n",
       "      <td>-0.055080</td>\n",
       "      <td>2.035030</td>\n",
       "      <td>-0.738589</td>\n",
       "      <td>0.868229</td>\n",
       "      <td>1.058415</td>\n",
       "      <td>0.024330</td>\n",
       "      <td>0.294869</td>\n",
       "      <td>0.584800</td>\n",
       "      <td>...</td>\n",
       "      <td>0.214205</td>\n",
       "      <td>0.924384</td>\n",
       "      <td>0.012463</td>\n",
       "      <td>-1.016226</td>\n",
       "      <td>-0.606624</td>\n",
       "      <td>-0.395255</td>\n",
       "      <td>0.068472</td>\n",
       "      <td>-0.053527</td>\n",
       "      <td>24.79</td>\n",
       "      <td>0</td>\n",
       "    </tr>\n",
       "    <tr>\n",
       "      <th>284804</th>\n",
       "      <td>172788.0</td>\n",
       "      <td>1.919565</td>\n",
       "      <td>-0.301254</td>\n",
       "      <td>-3.249640</td>\n",
       "      <td>-0.557828</td>\n",
       "      <td>2.630515</td>\n",
       "      <td>3.031260</td>\n",
       "      <td>-0.296827</td>\n",
       "      <td>0.708417</td>\n",
       "      <td>0.432454</td>\n",
       "      <td>...</td>\n",
       "      <td>0.232045</td>\n",
       "      <td>0.578229</td>\n",
       "      <td>-0.037501</td>\n",
       "      <td>0.640134</td>\n",
       "      <td>0.265745</td>\n",
       "      <td>-0.087371</td>\n",
       "      <td>0.004455</td>\n",
       "      <td>-0.026561</td>\n",
       "      <td>67.88</td>\n",
       "      <td>0</td>\n",
       "    </tr>\n",
       "    <tr>\n",
       "      <th>284805</th>\n",
       "      <td>172788.0</td>\n",
       "      <td>-0.240440</td>\n",
       "      <td>0.530483</td>\n",
       "      <td>0.702510</td>\n",
       "      <td>0.689799</td>\n",
       "      <td>-0.377961</td>\n",
       "      <td>0.623708</td>\n",
       "      <td>-0.686180</td>\n",
       "      <td>0.679145</td>\n",
       "      <td>0.392087</td>\n",
       "      <td>...</td>\n",
       "      <td>0.265245</td>\n",
       "      <td>0.800049</td>\n",
       "      <td>-0.163298</td>\n",
       "      <td>0.123205</td>\n",
       "      <td>-0.569159</td>\n",
       "      <td>0.546668</td>\n",
       "      <td>0.108821</td>\n",
       "      <td>0.104533</td>\n",
       "      <td>10.00</td>\n",
       "      <td>0</td>\n",
       "    </tr>\n",
       "    <tr>\n",
       "      <th>284806</th>\n",
       "      <td>172792.0</td>\n",
       "      <td>-0.533413</td>\n",
       "      <td>-0.189733</td>\n",
       "      <td>0.703337</td>\n",
       "      <td>-0.506271</td>\n",
       "      <td>-0.012546</td>\n",
       "      <td>-0.649617</td>\n",
       "      <td>1.577006</td>\n",
       "      <td>-0.414650</td>\n",
       "      <td>0.486180</td>\n",
       "      <td>...</td>\n",
       "      <td>0.261057</td>\n",
       "      <td>0.643078</td>\n",
       "      <td>0.376777</td>\n",
       "      <td>0.008797</td>\n",
       "      <td>-0.473649</td>\n",
       "      <td>-0.818267</td>\n",
       "      <td>-0.002415</td>\n",
       "      <td>0.013649</td>\n",
       "      <td>217.00</td>\n",
       "      <td>0</td>\n",
       "    </tr>\n",
       "  </tbody>\n",
       "</table>\n",
       "<p>284807 rows × 31 columns</p>\n",
       "</div>"
      ],
      "text/plain": [
       "            Time         V1         V2        V3        V4        V5  \\\n",
       "0            0.0  -1.359807  -0.072781  2.536347  1.378155 -0.338321   \n",
       "1            0.0   1.191857   0.266151  0.166480  0.448154  0.060018   \n",
       "2            1.0  -1.358354  -1.340163  1.773209  0.379780 -0.503198   \n",
       "3            1.0  -0.966272  -0.185226  1.792993 -0.863291 -0.010309   \n",
       "4            2.0  -1.158233   0.877737  1.548718  0.403034 -0.407193   \n",
       "...          ...        ...        ...       ...       ...       ...   \n",
       "284802  172786.0 -11.881118  10.071785 -9.834783 -2.066656 -5.364473   \n",
       "284803  172787.0  -0.732789  -0.055080  2.035030 -0.738589  0.868229   \n",
       "284804  172788.0   1.919565  -0.301254 -3.249640 -0.557828  2.630515   \n",
       "284805  172788.0  -0.240440   0.530483  0.702510  0.689799 -0.377961   \n",
       "284806  172792.0  -0.533413  -0.189733  0.703337 -0.506271 -0.012546   \n",
       "\n",
       "              V6        V7        V8        V9  ...       V21       V22  \\\n",
       "0       0.462388  0.239599  0.098698  0.363787  ... -0.018307  0.277838   \n",
       "1      -0.082361 -0.078803  0.085102 -0.255425  ... -0.225775 -0.638672   \n",
       "2       1.800499  0.791461  0.247676 -1.514654  ...  0.247998  0.771679   \n",
       "3       1.247203  0.237609  0.377436 -1.387024  ... -0.108300  0.005274   \n",
       "4       0.095921  0.592941 -0.270533  0.817739  ... -0.009431  0.798278   \n",
       "...          ...       ...       ...       ...  ...       ...       ...   \n",
       "284802 -2.606837 -4.918215  7.305334  1.914428  ...  0.213454  0.111864   \n",
       "284803  1.058415  0.024330  0.294869  0.584800  ...  0.214205  0.924384   \n",
       "284804  3.031260 -0.296827  0.708417  0.432454  ...  0.232045  0.578229   \n",
       "284805  0.623708 -0.686180  0.679145  0.392087  ...  0.265245  0.800049   \n",
       "284806 -0.649617  1.577006 -0.414650  0.486180  ...  0.261057  0.643078   \n",
       "\n",
       "             V23       V24       V25       V26       V27       V28  Amount  \\\n",
       "0      -0.110474  0.066928  0.128539 -0.189115  0.133558 -0.021053  149.62   \n",
       "1       0.101288 -0.339846  0.167170  0.125895 -0.008983  0.014724    2.69   \n",
       "2       0.909412 -0.689281 -0.327642 -0.139097 -0.055353 -0.059752  378.66   \n",
       "3      -0.190321 -1.175575  0.647376 -0.221929  0.062723  0.061458  123.50   \n",
       "4      -0.137458  0.141267 -0.206010  0.502292  0.219422  0.215153   69.99   \n",
       "...          ...       ...       ...       ...       ...       ...     ...   \n",
       "284802  1.014480 -0.509348  1.436807  0.250034  0.943651  0.823731    0.77   \n",
       "284803  0.012463 -1.016226 -0.606624 -0.395255  0.068472 -0.053527   24.79   \n",
       "284804 -0.037501  0.640134  0.265745 -0.087371  0.004455 -0.026561   67.88   \n",
       "284805 -0.163298  0.123205 -0.569159  0.546668  0.108821  0.104533   10.00   \n",
       "284806  0.376777  0.008797 -0.473649 -0.818267 -0.002415  0.013649  217.00   \n",
       "\n",
       "        Class  \n",
       "0           0  \n",
       "1           0  \n",
       "2           0  \n",
       "3           0  \n",
       "4           0  \n",
       "...       ...  \n",
       "284802      0  \n",
       "284803      0  \n",
       "284804      0  \n",
       "284805      0  \n",
       "284806      0  \n",
       "\n",
       "[284807 rows x 31 columns]"
      ]
     },
     "execution_count": 4,
     "metadata": {},
     "output_type": "execute_result"
    }
   ],
   "source": [
    "df"
   ]
  },
  {
   "cell_type": "code",
   "execution_count": 5,
   "id": "f3a2ff1f",
   "metadata": {},
   "outputs": [],
   "source": [
    "# Preparamos dataset X, y\n",
    "X = df.drop(\"Class\", axis=1)\n",
    "y = df[\"Class\"]"
   ]
  },
  {
   "cell_type": "code",
   "execution_count": 6,
   "id": "ac754d65",
   "metadata": {},
   "outputs": [
    {
     "data": {
      "text/plain": [
       "0    284315\n",
       "1       492\n",
       "Name: Class, dtype: int64"
      ]
     },
     "execution_count": 6,
     "metadata": {},
     "output_type": "execute_result"
    }
   ],
   "source": [
    "y.value_counts()"
   ]
  },
  {
   "cell_type": "code",
   "execution_count": 7,
   "id": "e5181d41",
   "metadata": {},
   "outputs": [
    {
     "data": {
      "text/plain": [
       "<AxesSubplot:>"
      ]
     },
     "execution_count": 7,
     "metadata": {},
     "output_type": "execute_result"
    },
    {
     "data": {
      "image/png": "[encoded data removed]",
      "text/plain": [
       "<Figure size 432x288 with 1 Axes>"
      ]
     },
     "metadata": {
      "needs_background": "light"
     },
     "output_type": "display_data"
    }
   ],
   "source": [
    "y.hist()"
   ]
  },
  {
   "cell_type": "code",
   "execution_count": 8,
   "id": "53a77d0c",
   "metadata": {},
   "outputs": [
    {
     "data": {
      "text/plain": [
       "<AxesSubplot:>"
      ]
     },
     "execution_count": 8,
     "metadata": {},
     "output_type": "execute_result"
    },
    {
     "data": {
      "image/png": "[encoded data removed]",
      "text/plain": [
       "<Figure size 1440x1440 with 2 Axes>"
      ]
     },
     "metadata": {
      "needs_background": "light"
     },
     "output_type": "display_data"
    }
   ],
   "source": [
    "import seaborn as sns\n",
    "import matplotlib.pyplot as plt\n",
    "%matplotlib inline\n",
    "\n",
    "\n",
    "# Calculamos la matriz de correlacion\n",
    "corr = df.corr()\n",
    "\n",
    "# plot\n",
    "plt.figure(figsize=(20, 20))\n",
    "sns.heatmap(corr,\n",
    "        xticklabels=corr.columns,\n",
    "        yticklabels=corr.columns,\n",
    "        cmap='BrBG')"
   ]
  },
  {
   "cell_type": "code",
   "execution_count": null,
   "id": "fcd4c2e1",
   "metadata": {},
   "outputs": [],
   "source": []
  },
  {
   "cell_type": "code",
   "execution_count": 10,
   "id": "6c8f2a31",
   "metadata": {},
   "outputs": [],
   "source": [
    "from collections import Counter\n",
    "from imblearn.under_sampling import ClusterCentroids\n",
    "\n",
    "cc = ClusterCentroids(random_state=0)\n",
    "X_resampled, y_resampled = cc.fit_resample(X, y)"
   ]
  },
  {
   "cell_type": "code",
   "execution_count": 20,
   "id": "fa8971c7",
   "metadata": {},
   "outputs": [
    {
     "data": {
      "text/plain": [
       "0    492\n",
       "1    492\n",
       "Name: Class, dtype: int64"
      ]
     },
     "execution_count": 20,
     "metadata": {},
     "output_type": "execute_result"
    }
   ],
   "source": [
    "y_resampled.value_counts()"
   ]
  },
  {
   "cell_type": "code",
   "execution_count": 11,
   "id": "dd2a20ce",
   "metadata": {},
   "outputs": [
    {
     "data": {
      "text/plain": [
       "(984, 30)"
      ]
     },
     "execution_count": 11,
     "metadata": {},
     "output_type": "execute_result"
    }
   ],
   "source": [
    "X_resampled.shape"
   ]
  },
  {
   "cell_type": "code",
   "execution_count": 12,
   "id": "26cc1fc9",
   "metadata": {},
   "outputs": [
    {
     "data": {
      "text/plain": [
       "(984,)"
      ]
     },
     "execution_count": 12,
     "metadata": {},
     "output_type": "execute_result"
    }
   ],
   "source": [
    "y_resampled.shape"
   ]
  },
  {
   "cell_type": "code",
   "execution_count": 13,
   "id": "d3ef85f1",
   "metadata": {},
   "outputs": [],
   "source": [
    "X_train, X_test, y_train, y_test = train_test_split(X_resampled, y_resampled, stratify=y_resampled, test_size=0.3, random_state=42)"
   ]
  },
  {
   "cell_type": "code",
   "execution_count": 14,
   "id": "b2e7ba1f",
   "metadata": {},
   "outputs": [],
   "source": [
    "# Sin bucle plantilla basica\n",
    "def evaluate_model(X_train, y_train, X_test, y_test, model):\n",
    "    print(f\"Error training: {(1 - model.score(X_train, y_train)) * 100} %\")\n",
    "    print(f\"Error test: {(1 - model.score(X_test, y_test)) * 100} %\")\n",
    "    print(\"\")\n",
    "    print(\"\")\n",
    "    print(\"\")\n",
    "\n",
    "\n",
    "    print(\"Training confusion matrix\")\n",
    "    plot_confusion_matrix(X_train, y_train, model)\n",
    "    print(\"Test confusion matrix\")\n",
    "    plot_confusion_matrix(X_test, y_test, model)"
   ]
  },
  {
   "cell_type": "code",
   "execution_count": 15,
   "id": "c793e37d",
   "metadata": {},
   "outputs": [
    {
     "name": "stdout",
     "output_type": "stream",
     "text": [
      "Error training: 25.0 %\n",
      "Error test: 38.17567567567568 %\n",
      "\n",
      "\n",
      "\n",
      "Training confusion matrix\n"
     ]
    },
    {
     "data": {
      "image/png": "[encoded data removed]",
      "text/plain": [
       "<Figure size 432x288 with 2 Axes>"
      ]
     },
     "metadata": {
      "needs_background": "light"
     },
     "output_type": "display_data"
    },
    {
     "name": "stdout",
     "output_type": "stream",
     "text": [
      "Test confusion matrix\n"
     ]
    },
    {
     "data": {
      "image/png": "[encoded data removed]",
      "text/plain": [
       "<Figure size 432x288 with 2 Axes>"
      ]
     },
     "metadata": {
      "needs_background": "light"
     },
     "output_type": "display_data"
    }
   ],
   "source": [
    "# KNN\n",
    "\n",
    "model = KNeighborsClassifier(n_neighbors=5)\n",
    "model.fit(X_train, y_train)\n",
    "\n",
    "evaluate_model(X_train, y_train, X_test, y_test, model)"
   ]
  },
  {
   "cell_type": "code",
   "execution_count": 16,
   "id": "511b26fa",
   "metadata": {},
   "outputs": [
    {
     "name": "stdout",
     "output_type": "stream",
     "text": [
      "Error training: 0.0 %\n",
      "Error test: 1.6891891891891886 %\n",
      "\n",
      "\n",
      "\n",
      "Training confusion matrix\n"
     ]
    },
    {
     "data": {
      "image/png": "[encoded data removed]",
      "text/plain": [
       "<Figure size 432x288 with 2 Axes>"
      ]
     },
     "metadata": {
      "needs_background": "light"
     },
     "output_type": "display_data"
    },
    {
     "name": "stdout",
     "output_type": "stream",
     "text": [
      "Test confusion matrix\n"
     ]
    },
    {
     "data": {
      "image/png": "[encoded data removed]",
      "text/plain": [
       "<Figure size 432x288 with 2 Axes>"
      ]
     },
     "metadata": {
      "needs_background": "light"
     },
     "output_type": "display_data"
    }
   ],
   "source": [
    "# Boosting\n",
    "model = GradientBoostingClassifier(n_estimators=100, learning_rate=0.2,\n",
    "    max_depth=1, random_state=0)\n",
    "\n",
    "model = model.fit(X_train, y_train)\n",
    "\n",
    "evaluate_model(X_train, y_train, X_test, y_test, model)"
   ]
  },
  {
   "cell_type": "code",
   "execution_count": 17,
   "id": "01905ff9",
   "metadata": {},
   "outputs": [],
   "source": [
    "# Predict in original data:\n",
    "X_train, X_test, y_train, y_test = train_test_split(X, y, stratify=y, test_size=0.3, random_state=42)"
   ]
  },
  {
   "cell_type": "code",
   "execution_count": 18,
   "id": "ba601598",
   "metadata": {},
   "outputs": [
    {
     "name": "stdout",
     "output_type": "stream",
     "text": [
      "Error training: 55.73925081759996 %\n",
      "Error test: 55.46387650246363 %\n",
      "\n",
      "\n",
      "\n",
      "Training confusion matrix\n"
     ]
    },
    {
     "data": {
      "image/png": "[encoded data removed]",
      "text/plain": [
       "<Figure size 432x288 with 2 Axes>"
      ]
     },
     "metadata": {
      "needs_background": "light"
     },
     "output_type": "display_data"
    },
    {
     "name": "stdout",
     "output_type": "stream",
     "text": [
      "Test confusion matrix\n"
     ]
    },
    {
     "data": {
      "image/png": "[encoded data removed]",
      "text/plain": [
       "<Figure size 432x288 with 2 Axes>"
      ]
     },
     "metadata": {
      "needs_background": "light"
     },
     "output_type": "display_data"
    }
   ],
   "source": [
    "evaluate_model(X_train, y_train, X_test, y_test, model)"
   ]
  },
  {
   "cell_type": "code",
   "execution_count": 22,
   "id": "42a3e9ed",
   "metadata": {},
   "outputs": [],
   "source": [
    "import pickle\n",
    "\n"
   ]
  },
  {
   "cell_type": "code",
   "execution_count": null,
   "id": "88d918b5",
   "metadata": {},
   "outputs": [],
   "source": []
  },
  {
   "cell_type": "code",
   "execution_count": 21,
   "id": "20c360d4",
   "metadata": {},
   "outputs": [
    {
     "data": {
      "text/plain": [
       "GradientBoostingClassifier(learning_rate=0.2, max_depth=1, random_state=0)"
      ]
     },
     "execution_count": 21,
     "metadata": {},
     "output_type": "execute_result"
    }
   ],
   "source": [
    "model"
   ]
  },
  {
   "cell_type": "code",
   "execution_count": 23,
   "id": "7a34f2da",
   "metadata": {},
   "outputs": [],
   "source": [
    "# Save Model Using Pickle\n",
    "import pandas\n",
    "from sklearn import model_selection\n",
    "from sklearn.linear_model import LogisticRegression\n",
    "\n",
    "\n",
    "\n",
    "\n",
    "\n",
    "# save the model to disk\n",
    "filename = 'finalized_model.pkl'\n",
    "pickle.dump(model, open(filename, 'wb'))\n",
    " \n"
   ]
  },
  {
   "cell_type": "code",
   "execution_count": 24,
   "id": "46dab27e",
   "metadata": {},
   "outputs": [],
   "source": [
    "# some time later...\n",
    "\n",
    "# load the model from disk\n",
    "loaded_model = pickle.load(open(filename, 'rb'))\n"
   ]
  },
  {
   "cell_type": "code",
   "execution_count": 25,
   "id": "4d0ee934",
   "metadata": {},
   "outputs": [
    {
     "data": {
      "text/plain": [
       "GradientBoostingClassifier(learning_rate=0.2, max_depth=1, random_state=0)"
      ]
     },
     "execution_count": 25,
     "metadata": {},
     "output_type": "execute_result"
    }
   ],
   "source": [
    "loaded_model"
   ]
  },
  {
   "cell_type": "code",
   "execution_count": 27,
   "id": "cc363adf",
   "metadata": {},
   "outputs": [
    {
     "name": "stdout",
     "output_type": "stream",
     "text": [
      "0.4453612349753637\n"
     ]
    }
   ],
   "source": [
    "result = loaded_model.score(X_test, y_test)\n",
    "print(result)"
   ]
  },
  {
   "cell_type": "code",
   "execution_count": 34,
   "id": "9bdf92ed",
   "metadata": {},
   "outputs": [],
   "source": [
    "import json"
   ]
  },
  {
   "cell_type": "code",
   "execution_count": 35,
   "id": "01908af1",
   "metadata": {},
   "outputs": [
    {
     "data": {
      "text/plain": [
       "'{\"Time\": 127294.0, \"V1\": -2.53733124088052, \"V2\": 1.89086398954169, \"V3\": -0.840554538789309, \"V4\": -1.10275857451177, \"V5\": -2.10572496501817, \"V6\": 0.367810823174649, \"V7\": -2.7378443184627, \"V8\": -3.54331388039951, \"V9\": -0.48314658550283, \"V10\": 0.112724082144171, \"V11\": -1.6125864643408, \"V12\": 0.635855271740596, \"V13\": 0.406871150414857, \"V14\": 0.854371268586897, \"V15\": 0.505753382304214, \"V16\": -0.947788092588628, \"V17\": 0.557331097060658, \"V18\": 1.54663826513625, \"V19\": -0.789047413329509, \"V20\": -1.95961124761461, \"V21\": 4.32816481557604, \"V22\": -2.16732949946179, \"V23\": 1.02256725061431, \"V24\": -0.241143274477121, \"V25\": -1.09488536686343, \"V26\": -0.475427437488543, \"V27\": -0.177157043721632, \"V28\": -0.0826905453531387, \"Amount\": 37.4}'"
      ]
     },
     "execution_count": 35,
     "metadata": {},
     "output_type": "execute_result"
    }
   ],
   "source": [
    "json.dumps(X_test.iloc[0].to_dict())"
   ]
  },
  {
   "cell_type": "code",
   "execution_count": 32,
   "id": "250cb57f",
   "metadata": {},
   "outputs": [
    {
     "name": "stderr",
     "output_type": "stream",
     "text": [
      "/Users/rafael.nogales/opt/anaconda3/lib/python3.9/site-packages/sklearn/base.py:450: UserWarning: X does not have valid feature names, but GradientBoostingClassifier was fitted with feature names\n",
      "  warnings.warn(\n"
     ]
    },
    {
     "data": {
      "text/plain": [
       "1"
      ]
     },
     "execution_count": 32,
     "metadata": {},
     "output_type": "execute_result"
    }
   ],
   "source": [
    "model.predict([X_test.iloc[0]])[0]"
   ]
  },
  {
   "cell_type": "code",
   "execution_count": 36,
   "id": "b7b2f6ee",
   "metadata": {},
   "outputs": [
    {
     "name": "stdout",
     "output_type": "stream",
     "text": [
      "Package                       Version\r\n",
      "----------------------------- ------------\r\n",
      "aiokafka                      0.8.0\r\n",
      "alabaster                     0.7.12\r\n",
      "alembic                       1.6.5\r\n",
      "anaconda-client               1.9.0\r\n",
      "anaconda-navigator            2.3.0\r\n",
      "anaconda-project              0.10.2\r\n",
      "aniso8601                     7.0.0\r\n",
      "anyio                         3.5.0\r\n",
      "appdirs                       1.4.4\r\n",
      "appnope                       0.1.2\r\n",
      "appscript                     1.1.2\r\n",
      "argon2-cffi                   21.3.0\r\n",
      "argon2-cffi-bindings          21.2.0\r\n",
      "arrow                         1.2.3\r\n",
      "astroid                       2.9.0\r\n",
      "astropy                       5.0.4\r\n",
      "asttokens                     2.0.5\r\n",
      "async-timeout                 4.0.2\r\n",
      "asyncio                       3.4.3\r\n",
      "attrs                         21.4.0\r\n",
      "Automat                       20.2.0\r\n",
      "b2b-forecasting-interface     0.2.1\r\n",
      "Babel                         2.9.1\r\n",
      "backcall                      0.2.0\r\n",
      "backports.functools-lru-cache 1.6.4\r\n",
      "backports.tempfile            1.0\r\n",
      "backports.weakref             1.0.post1\r\n",
      "bcrypt                        3.2.0\r\n",
      "beautifulsoup4                4.11.1\r\n",
      "binaryornot                   0.4.4\r\n",
      "bitarray                      2.5.0\r\n",
      "bkcharts                      0.2\r\n",
      "bleach                        4.1.0\r\n",
      "bokeh                         2.4.2\r\n",
      "boto3                         1.26.42\r\n",
      "boto3-stubs                   1.25.2\r\n",
      "botocore                      1.29.61\r\n",
      "botocore-stubs                1.27.96\r\n",
      "Bottleneck                    1.3.4\r\n",
      "brotlipy                      0.7.0\r\n",
      "cachetools                    5.2.0\r\n",
      "Cerberus                      1.3.4\r\n",
      "certifi                       2022.5.18.1\r\n",
      "cffi                          1.15.0\r\n",
      "chardet                       4.0.0\r\n",
      "charset-normalizer            2.0.4\r\n",
      "click                         8.0.4\r\n",
      "cloudpickle                   2.0.0\r\n",
      "clyent                        1.2.2\r\n",
      "colorama                      0.4.4\r\n",
      "colorcet                      3.0.0\r\n",
      "coloredlogs                   14.0\r\n",
      "conda                         22.9.0\r\n",
      "conda-build                   3.21.9\r\n",
      "conda-content-trust           0+unknown\r\n",
      "conda-pack                    0.6.0\r\n",
      "conda-package-handling        1.8.1\r\n",
      "conda-repo-cli                1.0.5\r\n",
      "conda-token                   0.3.0\r\n",
      "conda-verify                  3.4.2\r\n",
      "constantly                    15.1.0\r\n",
      "cookiecutter                  2.1.1\r\n",
      "coverage                      6.5.0\r\n",
      "croniter                      1.3.7\r\n",
      "cryptography                  39.0.0\r\n",
      "cssselect                     1.1.0\r\n",
      "cycler                        0.11.0\r\n",
      "Cython                        0.29.28\r\n",
      "cytoolz                       0.11.0\r\n",
      "dagit                         1.0.2\r\n",
      "dagster                       1.0.2\r\n",
      "dagster-docker                0.16.2\r\n",
      "dagster-graphql               1.0.2\r\n",
      "dagster-k8s                   0.16.2\r\n",
      "dagster-postgres              0.16.2\r\n",
      "dask                          2022.5.0\r\n",
      "dataclasses-json              0.5.7\r\n",
      "datashader                    0.13.0\r\n",
      "datashape                     0.5.4\r\n",
      "dbb-dagster                   1.0.0\r\n",
      "dbb-integration-framework     2.0.6\r\n",
      "dbb-integration-helpers       3.4.0\r\n",
      "debugpy                       1.5.1\r\n",
      "decorator                     5.1.1\r\n",
      "defusedxml                    0.7.1\r\n",
      "distributed                   2022.5.0\r\n",
      "dnspython                     2.2.1\r\n",
      "docker                        6.0.0\r\n",
      "docker-image-py               0.1.12\r\n",
      "docstring-parser              0.15\r\n",
      "docutils                      0.17.1\r\n",
      "entrypoints                   0.4\r\n",
      "et-xmlfile                    1.1.0\r\n",
      "exceptiongroup                1.1.0\r\n",
      "executing                     0.8.3\r\n",
      "fastjsonschema                2.15.1\r\n",
      "fernet                        1.0.1\r\n",
      "filelock                      3.6.0\r\n",
      "flake8                        6.0.0\r\n",
      "Flask                         1.1.2\r\n",
      "fonttools                     4.25.0\r\n",
      "fsspec                        2022.3.0\r\n",
      "future                        0.18.2\r\n",
      "gensim                        4.1.2\r\n",
      "glob2                         0.7\r\n",
      "gmpy2                         2.1.2\r\n",
      "google-auth                   2.13.0\r\n",
      "gql                           2.0.0\r\n",
      "graphene                      2.1.9\r\n",
      "graphql-core                  2.3.2\r\n",
      "graphql-relay                 2.0.1\r\n",
      "greenlet                      1.1.0\r\n",
      "grpcio                        1.50.0\r\n",
      "grpcio-health-checking        1.43.0\r\n",
      "h11                           0.14.0\r\n",
      "h5py                          3.6.0\r\n",
      "HeapDict                      1.0.1\r\n",
      "holoviews                     1.14.8\r\n",
      "httptools                     0.5.0\r\n",
      "humanfriendly                 10.0\r\n",
      "hvplot                        0.7.3\r\n",
      "hyperlink                     21.0.0\r\n",
      "idna                          3.3\r\n",
      "imagecodecs                   2021.8.26\r\n",
      "imageio                       2.9.0\r\n",
      "imagesize                     1.3.0\r\n",
      "imbalanced-learn              0.10.1\r\n",
      "imblearn                      0.0\r\n",
      "importlib-metadata            4.11.3\r\n",
      "incremental                   21.3.0\r\n",
      "iniconfig                     1.1.1\r\n",
      "intake                        0.6.5\r\n",
      "ipykernel                     6.9.1\r\n",
      "ipython                       8.3.0\r\n",
      "ipython-genutils              0.2.0\r\n",
      "ipywidgets                    7.6.5\r\n",
      "isort                         5.9.3\r\n",
      "itemadapter                   0.3.0\r\n",
      "itemloaders                   1.0.4\r\n",
      "itsdangerous                  2.0.1\r\n",
      "jdcal                         1.4.1\r\n",
      "jedi                          0.18.1\r\n",
      "Jinja2                        2.11.3\r\n",
      "jinja2-time                   0.2.0\r\n",
      "jmespath                      1.0.1\r\n",
      "joblib                        1.2.0\r\n",
      "json5                         0.9.6\r\n",
      "jsonschema                    4.17.3\r\n",
      "jupyter-client                7.2.2\r\n",
      "jupyter-console               6.4.3\r\n",
      "jupyter-core                  4.10.0\r\n",
      "jupyter-server                1.13.5\r\n",
      "jupyterlab                    3.3.2\r\n",
      "jupyterlab-pygments           0.1.2\r\n",
      "jupyterlab-server             2.10.3\r\n",
      "jupyterlab-widgets            1.0.0\r\n",
      "kafka-python                  2.0.2\r\n",
      "keras                         2.10.0\r\n",
      "kiwisolver                    1.4.2\r\n",
      "kubernetes                    25.3.0\r\n",
      "lazy-object-proxy             1.6.0\r\n",
      "libarchive-c                  2.9\r\n",
      "llvmlite                      0.38.0\r\n",
      "locket                        1.0.0\r\n",
      "lxml                          4.9.2\r\n",
      "lz4                           3.1.3\r\n",
      "Mako                          1.2.3\r\n",
      "Markdown                      3.3.4\r\n",
      "MarkupSafe                    2.0.1\r\n",
      "marshmallow                   3.18.0\r\n",
      "marshmallow-enum              1.5.1\r\n",
      "matplotlib                    3.5.1\r\n",
      "matplotlib-inline             0.1.2\r\n",
      "mccabe                        0.7.0\r\n",
      "mistune                       0.8.4\r\n",
      "mock                          4.0.3\r\n",
      "mongoengine                   0.24.2\r\n",
      "mongomock                     4.1.2\r\n",
      "moto                          3.1.16\r\n",
      "mpmath                        1.2.1\r\n",
      "msal                          1.20.0\r\n",
      "msgpack                       1.0.3\r\n",
      "multipledispatch              0.6.0\r\n",
      "munkres                       1.1.4\r\n",
      "mypy                          0.991\r\n",
      "mypy-extensions               0.4.3\r\n",
      "navigator-updater             0.3.0\r\n",
      "nbclassic                     0.3.5\r\n",
      "nbclient                      0.5.13\r\n",
      "nbconvert                     6.4.4\r\n",
      "nbformat                      5.3.0\r\n",
      "nest-asyncio                  1.5.5\r\n",
      "networkx                      2.7.1\r\n",
      "nltk                          3.7\r\n",
      "nose                          1.3.7\r\n",
      "notebook                      6.4.11\r\n",
      "numba                         0.55.1\r\n",
      "numexpr                       2.8.1\r\n",
      "numpy                         1.22.4\r\n",
      "numpydoc                      1.2\r\n",
      "oauthlib                      3.2.2\r\n",
      "Office365-REST-Python-Client  2.3.16\r\n",
      "olefile                       0.46\r\n",
      "openpyxl                      3.0.10\r\n",
      "orjson                        3.8.3\r\n",
      "packaging                     21.3\r\n",
      "pandas                        1.5.2\r\n",
      "pandas-stubs                  1.5.2.221213\r\n",
      "pandera                       0.13.4\r\n",
      "pandocfilters                 1.5.0\r\n",
      "panel                         0.13.0\r\n",
      "param                         1.12.0\r\n",
      "paramiko                      2.12.0\r\n",
      "parsel                        1.6.0\r\n",
      "parso                         0.8.3\r\n",
      "partd                         1.2.0\r\n",
      "pathlib                       1.0.1\r\n",
      "patsy                         0.5.2\r\n",
      "pendulum                      2.1.2\r\n",
      "pep8                          1.7.1\r\n",
      "pexpect                       4.8.0\r\n",
      "pickleshare                   0.7.5\r\n",
      "Pillow                        9.0.1\r\n",
      "pip                           21.2.4\r\n",
      "pkginfo                       1.8.2\r\n",
      "platformdirs                  2.4.0\r\n",
      "plotly                        5.6.0\r\n",
      "pluggy                        1.0.0\r\n",
      "prometheus-client             0.15.0\r\n",
      "promise                       2.3\r\n",
      "prompt-toolkit                3.0.20\r\n",
      "Protego                       0.1.16\r\n",
      "protobuf                      3.20.1\r\n",
      "psutil                        5.8.0\r\n",
      "psycopg2-binary               2.9.5\r\n",
      "ptyprocess                    0.7.0\r\n",
      "pure-eval                     0.2.2\r\n",
      "py                            1.11.0\r\n",
      "pyaes                         1.6.1\r\n",
      "pyasn1                        0.4.8\r\n",
      "pyasn1-modules                0.2.8\r\n",
      "pycodestyle                   2.10.0\r\n",
      "pycosat                       0.6.3\r\n",
      "pycparser                     2.21\r\n",
      "pyct                          0.4.6\r\n",
      "pycurl                        7.43.0.6\r\n",
      "pydantic                      1.10.2\r\n",
      "PyDispatcher                  2.0.5\r\n",
      "pyerfa                        2.0.0\r\n",
      "pyflakes                      3.0.1\r\n",
      "Pygments                      2.11.2\r\n",
      "PyHamcrest                    2.0.2\r\n",
      "PyJWT                         2.4.0\r\n",
      "pylint                        2.12.2\r\n",
      "pymongo                       4.3.3\r\n",
      "PyNaCl                        1.5.0\r\n",
      "pyodbc                        4.0.32\r\n",
      "pyOpenSSL                     21.0.0\r\n",
      "pyparsing                     3.0.4\r\n",
      "pyprojroot                    0.2.0\r\n",
      "PyQt5                         5.15.2\r\n",
      "PyQt5_sip                     4.19.25\r\n",
      "PyQtChart                     5.15.2\r\n",
      "pyrsistent                    0.18.0\r\n",
      "PySocks                       1.7.1\r\n",
      "pytest                        7.2.0\r\n",
      "pytest-cov                    4.0.0\r\n",
      "python-dateutil               2.8.2\r\n",
      "python-dotenv                 0.21.0\r\n",
      "python-editor                 1.0.4\r\n",
      "python-slugify                6.1.2\r\n",
      "python-snappy                 0.6.0\r\n",
      "pytz                          2022.7\r\n",
      "pytzdata                      2020.1\r\n",
      "pyviz-comms                   2.0.2\r\n",
      "PyWavelets                    1.3.0\r\n",
      "PyYAML                        6.0\r\n",
      "pyzmq                         22.3.0\r\n",
      "QtPy                          2.2.0\r\n",
      "queuelib                      1.5.0\r\n",
      "regex                         2022.3.15\r\n",
      "requests                      2.27.1\r\n",
      "requests-file                 1.5.1\r\n",
      "requests-oauthlib             1.3.1\r\n",
      "responses                     0.22.0\r\n",
      "rfc3339-validator             0.1.4\r\n",
      "rope                          0.22.0\r\n",
      "rsa                           4.9\r\n",
      "ruamel-yaml-conda             0.15.100\r\n",
      "Rx                            1.6.1\r\n",
      "s3transfer                    0.6.0\r\n",
      "scikit-image                  0.19.2\r\n",
      "scikit-learn                  1.0.2\r\n",
      "scipy                         1.7.3\r\n",
      "Scrapy                        2.6.1\r\n",
      "seaborn                       0.11.2\r\n",
      "Send2Trash                    1.8.0\r\n",
      "sentinels                     1.0.0\r\n",
      "service-identity              18.1.0\r\n",
      "setuptools                    61.2.0\r\n",
      "sip                           6.5.1\r\n",
      "six                           1.16.0\r\n",
      "smart-open                    5.2.1\r\n",
      "sniffio                       1.2.0\r\n",
      "snowballstemmer               2.2.0\r\n",
      "sortedcollections             2.1.0\r\n",
      "sortedcontainers              2.4.0\r\n",
      "soupsieve                     2.3.1\r\n",
      "Sphinx                        4.4.0\r\n",
      "sphinxcontrib-applehelp       1.0.2\r\n",
      "sphinxcontrib-devhelp         1.0.2\r\n",
      "sphinxcontrib-htmlhelp        2.0.0\r\n",
      "sphinxcontrib-jsmath          1.0.1\r\n",
      "sphinxcontrib-qthelp          1.0.3\r\n",
      "sphinxcontrib-serializinghtml 1.1.5\r\n",
      "SQLAlchemy                    1.4.32\r\n",
      "stack-data                    0.2.0\r\n",
      "starlette                     0.21.0\r\n",
      "statsmodels                   0.13.2\r\n",
      "sympy                         1.10.1\r\n",
      "tables                        3.7.0\r\n",
      "tabulate                      0.8.9\r\n",
      "TBB                           0.2\r\n",
      "tblib                         1.7.0\r\n",
      "tenacity                      8.0.1\r\n",
      "terminado                     0.13.1\r\n",
      "testpath                      0.5.0\r\n",
      "text-unidecode                1.3\r\n",
      "threadpoolctl                 2.2.0\r\n",
      "tifffile                      2021.7.2\r\n",
      "tldextract                    3.2.0\r\n",
      "toml                          0.10.2\r\n",
      "tomli                         1.2.2\r\n",
      "toolz                         0.11.2\r\n",
      "toposort                      1.7\r\n",
      "tornado                       6.1\r\n",
      "tqdm                          4.64.0\r\n",
      "traitlets                     5.1.1\r\n",
      "Twisted                       22.2.0\r\n",
      "types-awscrt                  0.14.7\r\n",
      "types-boto3                   1.0.2\r\n",
      "types-cryptography            3.3.23.1\r\n",
      "types-jmespath                1.0.2.3\r\n",
      "types-jsonschema              4.17.0.2\r\n",
      "types-paramiko                2.12.0.1\r\n",
      "types-python-dateutil         2.8.19.5\r\n",
      "types-pytz                    2022.7.0.0\r\n",
      "types-requests                2.28.11.7\r\n",
      "types-s3transfer              0.6.0.post4\r\n",
      "types-toml                    0.10.8\r\n",
      "types-urllib3                 1.26.25.1\r\n",
      "typing-compat                 0.1.0\r\n",
      "typing_extensions             4.1.1\r\n",
      "typing-inspect                0.8.0\r\n",
      "ujson                         5.4.0\r\n",
      "urllib3                       1.26.9\r\n",
      "uvicorn                       0.19.0\r\n",
      "uvloop                        0.17.0\r\n",
      "w3lib                         1.21.0\r\n",
      "watchdog                      2.1.9\r\n",
      "watchfiles                    0.18.0\r\n",
      "wcwidth                       0.2.5\r\n",
      "webencodings                  0.5.1\r\n",
      "websocket-client              0.58.0\r\n",
      "websockets                    10.4\r\n",
      "Werkzeug                      2.0.3\r\n",
      "wheel                         0.37.1\r\n",
      "widgetsnbextension            3.5.2\r\n",
      "wrapt                         1.13.3\r\n",
      "xarray                        0.20.1\r\n",
      "xlrd                          2.0.1\r\n",
      "XlsxWriter                    3.0.5\r\n",
      "xlwings                       0.24.6\r\n",
      "xmltodict                     0.13.0\r\n",
      "zict                          2.0.0\r\n",
      "zipp                          3.8.0\r\n",
      "zope.interface                5.4.0\r\n"
     ]
    }
   ],
   "source": [
    "!pip list"
   ]
  },
  {
   "cell_type": "code",
   "execution_count": null,
   "id": "4373810f",
   "metadata": {},
   "outputs": [],
   "source": [
    "!pip list"
   ]
  },
  {
   "cell_type": "code",
   "execution_count": 37,
   "id": "877b2ce4",
   "metadata": {},
   "outputs": [
    {
     "name": "stdout",
     "output_type": "stream",
     "text": [
      "\u001b[34mdata\u001b[m\u001b[m                finalized_model.pkl plantilla.ipynb\r\n"
     ]
    }
   ],
   "source": []
  },
  {
   "cell_type": "code",
   "execution_count": null,
   "id": "96a39ef8",
   "metadata": {},
   "outputs": [],
   "source": []
  },
  {
   "cell_type": "code",
   "execution_count": null,
   "id": "869dbe33",
   "metadata": {},
   "outputs": [],
   "source": []
  }
 ],
 "metadata": {
  "kernelspec": {
   "display_name": "Python 3 (ipykernel)",
   "language": "python",
   "name": "python3"
  },
  "language_info": {
   "codemirror_mode": {
    "name": "ipython",
    "version": 3
   },
   "file_extension": ".py",
   "mimetype": "text/x-python",
   "name": "python",
   "nbconvert_exporter": "python",
   "pygments_lexer": "ipython3",
   "version": "3.9.12"
  },
  "papermill": {
   "default_parameters": {},
   "duration": 25.965251,
   "end_time": "2022-08-11T08:00:35.978274",
   "environment_variables": {},
   "exception": null,
   "input_path": "__notebook__.ipynb",
   "output_path": "__notebook__.ipynb",
   "parameters": {},
   "start_time": "2022-08-11T08:00:10.013023",
   "version": "2.3.4"
  }
 },
 "nbformat": 4,
 "nbformat_minor": 5
}
